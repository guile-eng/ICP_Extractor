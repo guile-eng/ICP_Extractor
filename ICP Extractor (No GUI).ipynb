{
 "metadata": {
  "language_info": {
   "codemirror_mode": {
    "name": "ipython",
    "version": 3
   },
   "file_extension": ".py",
   "mimetype": "text/x-python",
   "name": "python",
   "nbconvert_exporter": "python",
   "pygments_lexer": "ipython3",
   "version": "3.9.1-final"
  },
  "orig_nbformat": 2,
  "kernelspec": {
   "name": "python3",
   "display_name": "Python 3.9.1 64-bit",
   "metadata": {
    "interpreter": {
     "hash": "ac59ebe37160ed0dfa835113d9b8498d9f09ceb179beaac4002f036b9467c963"
    }
   }
  }
 },
 "nbformat": 4,
 "nbformat_minor": 2,
 "cells": [
  {
   "cell_type": "code",
   "execution_count": 1,
   "metadata": {},
   "outputs": [],
   "source": [
    "import pandas as pd\n",
    "import numpy as np\n",
    "from pandas import DataFrame as df\n",
    "import tkinter as tk\n",
    "from tkinter import messagebox, ttk, filedialog\n",
    "from datetime import datetime"
   ]
  },
  {
   "cell_type": "code",
   "execution_count": 6,
   "metadata": {},
   "outputs": [
    {
     "output_type": "execute_result",
     "data": {
      "text/plain": [
       "         Label    Type            Date Time     Element Element Label Flags  \\\n",
       "0        Blank     BLK  15/01/2021 17:55:32  Ag 328.068            Ag     !   \n",
       "1        Blank     BLK  15/01/2021 17:55:32  Al 308.215            Al     !   \n",
       "2        Blank     BLK  15/01/2021 17:55:32  As 188.980            As     !   \n",
       "3        Blank     BLK  15/01/2021 17:55:32  As 193.696            As     !   \n",
       "4        Blank     BLK  15/01/2021 17:55:32   B 249.772             B     !   \n",
       "...        ...     ...                  ...         ...           ...   ...   \n",
       "3775  36633 BR  Sample  15/01/2021 20:22:38  Sn 189.925            Sn     u   \n",
       "3776  36633 BR  Sample  15/01/2021 20:22:38  Ti 336.122            Ti   NaN   \n",
       "3777  36633 BR  Sample  15/01/2021 20:22:38   V 319.068             V     u   \n",
       "3778  36633 BR  Sample  15/01/2021 20:22:38  Zn 213.857            Zn   NaN   \n",
       "3779  36633 BR  Sample  15/01/2021 20:22:38  Zn 472.215            Zn     u   \n",
       "\n",
       "     Unadjusted Data Concentration Unit  Intensity  ... Replicates  \\\n",
       "0               0.00          0.00  ppm      31.69  ...          3   \n",
       "1               0.00          0.00  ppm      33.30  ...          3   \n",
       "2               0.00          0.00  ppm       8.02  ...          3   \n",
       "3               0.00          0.00  ppm       6.76  ...          3   \n",
       "4               0.00          0.00  ppm      58.29  ...          3   \n",
       "...              ...           ...  ...        ...  ...        ...   \n",
       "3775            0.01          0.08  ppm      13.34  ...          3   \n",
       "3776            0.00          0.02  ppm      83.31  ...          3   \n",
       "3777            0.00         -0.01  ppm      23.76  ...          3   \n",
       "3778            0.00          0.01  ppm      70.89  ...          3   \n",
       "3779           -0.02         -0.12  ppm      55.19  ...          3   \n",
       "\n",
       "     Concentration Replicate 1  Concentration Replicate 2  \\\n",
       "0                         0.00                       0.00   \n",
       "1                         0.00                       0.00   \n",
       "2                         0.00                       0.00   \n",
       "3                         0.00                       0.00   \n",
       "4                         0.00                       0.00   \n",
       "...                        ...                        ...   \n",
       "3775                     -0.02                       0.02   \n",
       "3776                      0.02                       0.02   \n",
       "3777                     -0.02                      -0.03   \n",
       "3778                      0.02                       0.01   \n",
       "3779                     -0.39                       0.21   \n",
       "\n",
       "     Concentration Replicate 3 Intensity Replicate 1 Intensity Replicate 2  \\\n",
       "0                         0.00                 24.62                 45.64   \n",
       "1                         0.00                 40.06                 34.21   \n",
       "2                         0.00                  4.33                 16.24   \n",
       "3                         0.00                  5.91                  8.22   \n",
       "4                         0.00                 53.98                 56.82   \n",
       "...                        ...                   ...                   ...   \n",
       "3775                      0.24                  9.86                 11.26   \n",
       "3776                      0.01                107.15                 83.77   \n",
       "3777                      0.02                 20.22                 11.51   \n",
       "3778                      0.01                 78.30                 68.56   \n",
       "3779                     -0.18                 27.70                 89.03   \n",
       "\n",
       "     Intensity Replicate 3 Flags Replicate 1  Flags Replicate 2  \\\n",
       "0                    24.82               NaN                NaN   \n",
       "1                    25.62               NaN                NaN   \n",
       "2                     3.51               NaN                NaN   \n",
       "3                     6.16               NaN                NaN   \n",
       "4                    64.08               NaN                NaN   \n",
       "...                    ...               ...                ...   \n",
       "3775                 18.89                 u                NaN   \n",
       "3776                 59.03               NaN                NaN   \n",
       "3777                 39.54                 u                  u   \n",
       "3778                 65.80               NaN                NaN   \n",
       "3779                 48.84                 u                NaN   \n",
       "\n",
       "      Flags Replicate 3  \n",
       "0                   NaN  \n",
       "1                   NaN  \n",
       "2                   NaN  \n",
       "3                   NaN  \n",
       "4                   NaN  \n",
       "...                 ...  \n",
       "3775                NaN  \n",
       "3776                NaN  \n",
       "3777                NaN  \n",
       "3778                NaN  \n",
       "3779                  u  \n",
       "\n",
       "[3780 rows x 34 columns]"
      ],
      "text/html": "<div>\n<style scoped>\n    .dataframe tbody tr th:only-of-type {\n        vertical-align: middle;\n    }\n\n    .dataframe tbody tr th {\n        vertical-align: top;\n    }\n\n    .dataframe thead th {\n        text-align: right;\n    }\n</style>\n<table border=\"1\" class=\"dataframe\">\n  <thead>\n    <tr style=\"text-align: right;\">\n      <th></th>\n      <th>Label</th>\n      <th>Type</th>\n      <th>Date Time</th>\n      <th>Element</th>\n      <th>Element Label</th>\n      <th>Flags</th>\n      <th>Unadjusted Data</th>\n      <th>Concentration</th>\n      <th>Unit</th>\n      <th>Intensity</th>\n      <th>...</th>\n      <th>Replicates</th>\n      <th>Concentration Replicate 1</th>\n      <th>Concentration Replicate 2</th>\n      <th>Concentration Replicate 3</th>\n      <th>Intensity Replicate 1</th>\n      <th>Intensity Replicate 2</th>\n      <th>Intensity Replicate 3</th>\n      <th>Flags Replicate 1</th>\n      <th>Flags Replicate 2</th>\n      <th>Flags Replicate 3</th>\n    </tr>\n  </thead>\n  <tbody>\n    <tr>\n      <th>0</th>\n      <td>Blank</td>\n      <td>BLK</td>\n      <td>15/01/2021 17:55:32</td>\n      <td>Ag 328.068</td>\n      <td>Ag</td>\n      <td>!</td>\n      <td>0.00</td>\n      <td>0.00</td>\n      <td>ppm</td>\n      <td>31.69</td>\n      <td>...</td>\n      <td>3</td>\n      <td>0.00</td>\n      <td>0.00</td>\n      <td>0.00</td>\n      <td>24.62</td>\n      <td>45.64</td>\n      <td>24.82</td>\n      <td>NaN</td>\n      <td>NaN</td>\n      <td>NaN</td>\n    </tr>\n    <tr>\n      <th>1</th>\n      <td>Blank</td>\n      <td>BLK</td>\n      <td>15/01/2021 17:55:32</td>\n      <td>Al 308.215</td>\n      <td>Al</td>\n      <td>!</td>\n      <td>0.00</td>\n      <td>0.00</td>\n      <td>ppm</td>\n      <td>33.30</td>\n      <td>...</td>\n      <td>3</td>\n      <td>0.00</td>\n      <td>0.00</td>\n      <td>0.00</td>\n      <td>40.06</td>\n      <td>34.21</td>\n      <td>25.62</td>\n      <td>NaN</td>\n      <td>NaN</td>\n      <td>NaN</td>\n    </tr>\n    <tr>\n      <th>2</th>\n      <td>Blank</td>\n      <td>BLK</td>\n      <td>15/01/2021 17:55:32</td>\n      <td>As 188.980</td>\n      <td>As</td>\n      <td>!</td>\n      <td>0.00</td>\n      <td>0.00</td>\n      <td>ppm</td>\n      <td>8.02</td>\n      <td>...</td>\n      <td>3</td>\n      <td>0.00</td>\n      <td>0.00</td>\n      <td>0.00</td>\n      <td>4.33</td>\n      <td>16.24</td>\n      <td>3.51</td>\n      <td>NaN</td>\n      <td>NaN</td>\n      <td>NaN</td>\n    </tr>\n    <tr>\n      <th>3</th>\n      <td>Blank</td>\n      <td>BLK</td>\n      <td>15/01/2021 17:55:32</td>\n      <td>As 193.696</td>\n      <td>As</td>\n      <td>!</td>\n      <td>0.00</td>\n      <td>0.00</td>\n      <td>ppm</td>\n      <td>6.76</td>\n      <td>...</td>\n      <td>3</td>\n      <td>0.00</td>\n      <td>0.00</td>\n      <td>0.00</td>\n      <td>5.91</td>\n      <td>8.22</td>\n      <td>6.16</td>\n      <td>NaN</td>\n      <td>NaN</td>\n      <td>NaN</td>\n    </tr>\n    <tr>\n      <th>4</th>\n      <td>Blank</td>\n      <td>BLK</td>\n      <td>15/01/2021 17:55:32</td>\n      <td>B 249.772</td>\n      <td>B</td>\n      <td>!</td>\n      <td>0.00</td>\n      <td>0.00</td>\n      <td>ppm</td>\n      <td>58.29</td>\n      <td>...</td>\n      <td>3</td>\n      <td>0.00</td>\n      <td>0.00</td>\n      <td>0.00</td>\n      <td>53.98</td>\n      <td>56.82</td>\n      <td>64.08</td>\n      <td>NaN</td>\n      <td>NaN</td>\n      <td>NaN</td>\n    </tr>\n    <tr>\n      <th>...</th>\n      <td>...</td>\n      <td>...</td>\n      <td>...</td>\n      <td>...</td>\n      <td>...</td>\n      <td>...</td>\n      <td>...</td>\n      <td>...</td>\n      <td>...</td>\n      <td>...</td>\n      <td>...</td>\n      <td>...</td>\n      <td>...</td>\n      <td>...</td>\n      <td>...</td>\n      <td>...</td>\n      <td>...</td>\n      <td>...</td>\n      <td>...</td>\n      <td>...</td>\n      <td>...</td>\n    </tr>\n    <tr>\n      <th>3775</th>\n      <td>36633 BR</td>\n      <td>Sample</td>\n      <td>15/01/2021 20:22:38</td>\n      <td>Sn 189.925</td>\n      <td>Sn</td>\n      <td>u</td>\n      <td>0.01</td>\n      <td>0.08</td>\n      <td>ppm</td>\n      <td>13.34</td>\n      <td>...</td>\n      <td>3</td>\n      <td>-0.02</td>\n      <td>0.02</td>\n      <td>0.24</td>\n      <td>9.86</td>\n      <td>11.26</td>\n      <td>18.89</td>\n      <td>u</td>\n      <td>NaN</td>\n      <td>NaN</td>\n    </tr>\n    <tr>\n      <th>3776</th>\n      <td>36633 BR</td>\n      <td>Sample</td>\n      <td>15/01/2021 20:22:38</td>\n      <td>Ti 336.122</td>\n      <td>Ti</td>\n      <td>NaN</td>\n      <td>0.00</td>\n      <td>0.02</td>\n      <td>ppm</td>\n      <td>83.31</td>\n      <td>...</td>\n      <td>3</td>\n      <td>0.02</td>\n      <td>0.02</td>\n      <td>0.01</td>\n      <td>107.15</td>\n      <td>83.77</td>\n      <td>59.03</td>\n      <td>NaN</td>\n      <td>NaN</td>\n      <td>NaN</td>\n    </tr>\n    <tr>\n      <th>3777</th>\n      <td>36633 BR</td>\n      <td>Sample</td>\n      <td>15/01/2021 20:22:38</td>\n      <td>V 319.068</td>\n      <td>V</td>\n      <td>u</td>\n      <td>0.00</td>\n      <td>-0.01</td>\n      <td>ppm</td>\n      <td>23.76</td>\n      <td>...</td>\n      <td>3</td>\n      <td>-0.02</td>\n      <td>-0.03</td>\n      <td>0.02</td>\n      <td>20.22</td>\n      <td>11.51</td>\n      <td>39.54</td>\n      <td>u</td>\n      <td>u</td>\n      <td>NaN</td>\n    </tr>\n    <tr>\n      <th>3778</th>\n      <td>36633 BR</td>\n      <td>Sample</td>\n      <td>15/01/2021 20:22:38</td>\n      <td>Zn 213.857</td>\n      <td>Zn</td>\n      <td>NaN</td>\n      <td>0.00</td>\n      <td>0.01</td>\n      <td>ppm</td>\n      <td>70.89</td>\n      <td>...</td>\n      <td>3</td>\n      <td>0.02</td>\n      <td>0.01</td>\n      <td>0.01</td>\n      <td>78.30</td>\n      <td>68.56</td>\n      <td>65.80</td>\n      <td>NaN</td>\n      <td>NaN</td>\n      <td>NaN</td>\n    </tr>\n    <tr>\n      <th>3779</th>\n      <td>36633 BR</td>\n      <td>Sample</td>\n      <td>15/01/2021 20:22:38</td>\n      <td>Zn 472.215</td>\n      <td>Zn</td>\n      <td>u</td>\n      <td>-0.02</td>\n      <td>-0.12</td>\n      <td>ppm</td>\n      <td>55.19</td>\n      <td>...</td>\n      <td>3</td>\n      <td>-0.39</td>\n      <td>0.21</td>\n      <td>-0.18</td>\n      <td>27.70</td>\n      <td>89.03</td>\n      <td>48.84</td>\n      <td>u</td>\n      <td>NaN</td>\n      <td>u</td>\n    </tr>\n  </tbody>\n</table>\n<p>3780 rows × 34 columns</p>\n</div>"
     },
     "metadata": {},
     "execution_count": 6
    }
   ],
   "source": [
    "csvfile= pd.read_csv(\"C:/Users/guica/Downloads/ICP RUN 01_12_2021.csv\", header=2)\n",
    "csvfile"
   ]
  },
  {
   "cell_type": "code",
   "execution_count": null,
   "metadata": {},
   "outputs": [],
   "source": [
    "\n",
    "def l_samples():\n",
    "  global list_samples\n",
    "\n",
    "  list_samples= csvfile\n",
    "\n",
    "  if (noblank==1):\n",
    "    list_samples= list_samples[list_samples['Type']!='BLK']\n",
    "  if (nostd==1):\n",
    "    list_samples= list_samples[list_samples['Type']!='STD']\n",
    "  if (noHNO3==1):\n",
    "    list_samples=list_samples[~list_samples['Label'].str.contains('HNO', regex=False)]\n",
    "\n",
    "  list_samples=list_samples.reset_index(drop=True)\n",
    "  print(list_samples)\n",
    "\n",
    "  T.insert(tk.END,current_t() +\" - Samples have been read successfully!\\n\")\n",
    "\n",
    "def l_elements():\n",
    "  global list_elements\n",
    "  list_elements=[]\n",
    "\n",
    "  for n in range(0,len(list_samples.index),1):  \n",
    "    if (list_samples.iloc[n,3] not in list_elements):\n",
    "      list_elements.append(list_samples.iloc[n,3])\n",
    "\n",
    "  list_elements=pd.DataFrame(list_elements, columns=[\"Elements\"])\n",
    "  T.insert(tk.END,current_t() +\" - Elements have been read successfully!\\n\")\n",
    "\n",
    "def l_names ():\n",
    "  global list_names\n",
    "  global list_date\n",
    "  list_date=[]\n",
    "  list_names=[]\n",
    "  for n in range(0,len(list_samples),1):\n",
    "    if (list_samples.iloc[n,2] not in list_date):\n",
    "      list_date.append(list_samples.iloc[n,2])\n",
    "      list_names.append(list_samples.iloc[n,0])\n",
    "  list_names=pd.DataFrame(list_names, columns=['Label']).reset_index(drop=True)\n",
    "  list_date=pd.DataFrame(list_date, columns=['Date Time']).reset_index(drop=True)\n",
    "  print(list_names)\n"
   ]
  },
  {
   "cell_type": "code",
   "execution_count": 3,
   "metadata": {},
   "outputs": [
    {
     "output_type": "stream",
     "name": "stdout",
     "text": [
      "{'a': [1, 3, 4, 5, 65, 1]}\n"
     ]
    },
    {
     "output_type": "error",
     "ename": "NameError",
     "evalue": "name 'select_samples' is not defined",
     "traceback": [
      "\u001b[1;31m---------------------------------------------------------------------------\u001b[0m",
      "\u001b[1;31mNameError\u001b[0m                                 Traceback (most recent call last)",
      "\u001b[1;32m<ipython-input-3-1aa663bba3e9>\u001b[0m in \u001b[0;36m<module>\u001b[1;34m\u001b[0m\n\u001b[0;32m     30\u001b[0m   \u001b[1;32mreturn\u001b[0m \u001b[0mselect_dup\u001b[0m\u001b[1;33m\u001b[0m\u001b[1;33m\u001b[0m\u001b[0m\n\u001b[0;32m     31\u001b[0m \u001b[1;33m\u001b[0m\u001b[0m\n\u001b[1;32m---> 32\u001b[1;33m \u001b[0msample_name_filter\u001b[0m\u001b[1;33m(\u001b[0m\u001b[1;33m)\u001b[0m\u001b[1;33m\u001b[0m\u001b[1;33m\u001b[0m\u001b[0m\n\u001b[0m",
      "\u001b[1;32m<ipython-input-3-1aa663bba3e9>\u001b[0m in \u001b[0;36msample_name_filter\u001b[1;34m()\u001b[0m\n\u001b[0;32m     12\u001b[0m   \u001b[0mselect_dup1\u001b[0m \u001b[1;33m=\u001b[0m \u001b[1;33m[\u001b[0m\u001b[1;33m]\u001b[0m\u001b[1;33m\u001b[0m\u001b[1;33m\u001b[0m\u001b[0m\n\u001b[0;32m     13\u001b[0m   \u001b[0merase\u001b[0m \u001b[1;33m=\u001b[0m \u001b[1;33m[\u001b[0m\u001b[1;34m'A'\u001b[0m\u001b[1;33m,\u001b[0m \u001b[1;34m'B'\u001b[0m\u001b[1;33m,\u001b[0m \u001b[1;34m'C'\u001b[0m\u001b[1;33m,\u001b[0m \u001b[1;34m'a'\u001b[0m\u001b[1;33m,\u001b[0m \u001b[1;34m'b'\u001b[0m\u001b[1;33m,\u001b[0m \u001b[1;34m'c'\u001b[0m\u001b[1;33m,\u001b[0m \u001b[1;34m'R'\u001b[0m\u001b[1;33m,\u001b[0m \u001b[1;34m'r'\u001b[0m\u001b[1;33m]\u001b[0m\u001b[1;33m\u001b[0m\u001b[1;33m\u001b[0m\u001b[0m\n\u001b[1;32m---> 14\u001b[1;33m   \u001b[0mselect_samples1\u001b[0m \u001b[1;33m=\u001b[0m \u001b[0mlist\u001b[0m\u001b[1;33m(\u001b[0m\u001b[0mdict\u001b[0m\u001b[1;33m.\u001b[0m\u001b[0mfromkeys\u001b[0m\u001b[1;33m(\u001b[0m\u001b[0mselect_samples\u001b[0m\u001b[1;33m[\u001b[0m\u001b[1;34m'Label'\u001b[0m\u001b[1;33m]\u001b[0m\u001b[1;33m)\u001b[0m\u001b[1;33m)\u001b[0m\u001b[1;33m\u001b[0m\u001b[1;33m\u001b[0m\u001b[0m\n\u001b[0m\u001b[0;32m     15\u001b[0m \u001b[1;33m\u001b[0m\u001b[0m\n\u001b[0;32m     16\u001b[0m   \u001b[1;32mfor\u001b[0m \u001b[0mi\u001b[0m \u001b[1;32min\u001b[0m \u001b[0mselect_samples1\u001b[0m\u001b[1;33m:\u001b[0m\u001b[1;33m\u001b[0m\u001b[1;33m\u001b[0m\u001b[0m\n",
      "\u001b[1;31mNameError\u001b[0m: name 'select_samples' is not defined"
     ]
    }
   ],
   "source": [
    "d = {'a':[1,3,4,5,65]}\n",
    "if \"a\" in d:\n",
    "  d[\"a\"].append(1)\n",
    "\n",
    "print(d)\n",
    "\n",
    "\n",
    "def sample_name_filter():\n",
    "\n",
    "  global erase\n",
    "\n",
    "  select_dup1 = []\n",
    "  erase = ['A', 'B', 'C', 'a', 'b', 'c', 'R', 'r']\n",
    "  select_samples1 = list(dict.fromkeys(select_samples['Label']))\n",
    "\n",
    "  for i in select_samples1:\n",
    "    s01 = i\n",
    "    for x in erase:\n",
    "      s01 = s01.replace(x, '')\n",
    "      s01 = s01.strip()\n",
    "      print(s01)\n",
    "    select_dup1.append(s01)\n",
    "\n",
    "  select_dup = list(dict.fromkeys(select_dup1))\n",
    "\n",
    "  n_keys = dict.fromkeys()\n",
    "\n",
    "  print(select_dup)\n",
    "\n",
    "  return select_dup\n",
    "\n",
    "sample_name_filter()"
   ]
  },
  {
   "cell_type": "code",
   "execution_count": null,
   "metadata": {},
   "outputs": [],
   "source": []
  }
 ]
}